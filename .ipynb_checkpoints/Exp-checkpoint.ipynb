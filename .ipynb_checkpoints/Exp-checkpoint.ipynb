{
 "cells": [
  {
   "cell_type": "code",
   "execution_count": 7,
   "id": "d00488bd",
   "metadata": {},
   "outputs": [
    {
     "name": "stdout",
     "output_type": "stream",
     "text": [
      "Requirement already satisfied: torch in /Users/francescoferrini/opt/anaconda3/lib/python3.9/site-packages (1.13.1)\n",
      "Requirement already satisfied: torchvision in /Users/francescoferrini/opt/anaconda3/lib/python3.9/site-packages (0.14.1)\n",
      "Requirement already satisfied: torchaudio in /Users/francescoferrini/opt/anaconda3/lib/python3.9/site-packages (0.13.1)\n",
      "Requirement already satisfied: typing-extensions in /Users/francescoferrini/opt/anaconda3/lib/python3.9/site-packages (from torch) (3.10.0.2)\n",
      "Requirement already satisfied: requests in /Users/francescoferrini/opt/anaconda3/lib/python3.9/site-packages (from torchvision) (2.26.0)\n",
      "Requirement already satisfied: numpy in /Users/francescoferrini/opt/anaconda3/lib/python3.9/site-packages (from torchvision) (1.20.3)\n",
      "Requirement already satisfied: pillow!=8.3.*,>=5.3.0 in /Users/francescoferrini/opt/anaconda3/lib/python3.9/site-packages (from torchvision) (8.4.0)\n",
      "Requirement already satisfied: idna<4,>=2.5 in /Users/francescoferrini/opt/anaconda3/lib/python3.9/site-packages (from requests->torchvision) (3.2)\n",
      "Requirement already satisfied: urllib3<1.27,>=1.21.1 in /Users/francescoferrini/opt/anaconda3/lib/python3.9/site-packages (from requests->torchvision) (1.26.7)\n",
      "Requirement already satisfied: charset-normalizer~=2.0.0 in /Users/francescoferrini/opt/anaconda3/lib/python3.9/site-packages (from requests->torchvision) (2.0.4)\n",
      "Requirement already satisfied: certifi>=2017.4.17 in /Users/francescoferrini/opt/anaconda3/lib/python3.9/site-packages (from requests->torchvision) (2021.10.8)\n",
      "Looking in links: https://data.pyg.org/whl/torch-1.13.0+cpu.html\n",
      "Requirement already satisfied: pyg-lib in /Users/francescoferrini/opt/anaconda3/lib/python3.9/site-packages (0.1.0+pt113)\n",
      "Requirement already satisfied: torch-scatter in /Users/francescoferrini/opt/anaconda3/lib/python3.9/site-packages (2.1.0)\n",
      "Requirement already satisfied: torch-sparse in /Users/francescoferrini/opt/anaconda3/lib/python3.9/site-packages (0.6.16)\n",
      "Requirement already satisfied: torch-cluster in /Users/francescoferrini/opt/anaconda3/lib/python3.9/site-packages (1.6.0)\n",
      "Requirement already satisfied: torch-spline-conv in /Users/francescoferrini/opt/anaconda3/lib/python3.9/site-packages (1.2.1)\n",
      "Requirement already satisfied: torch-geometric in /Users/francescoferrini/opt/anaconda3/lib/python3.9/site-packages (2.2.0)\n",
      "Requirement already satisfied: scipy in /Users/francescoferrini/opt/anaconda3/lib/python3.9/site-packages (from torch-sparse) (1.7.1)\n",
      "Requirement already satisfied: numpy in /Users/francescoferrini/opt/anaconda3/lib/python3.9/site-packages (from torch-geometric) (1.20.3)\n",
      "Requirement already satisfied: tqdm in /Users/francescoferrini/opt/anaconda3/lib/python3.9/site-packages (from torch-geometric) (4.62.3)\n",
      "Requirement already satisfied: scikit-learn in /Users/francescoferrini/opt/anaconda3/lib/python3.9/site-packages (from torch-geometric) (0.24.2)\n",
      "Requirement already satisfied: pyparsing in /Users/francescoferrini/opt/anaconda3/lib/python3.9/site-packages (from torch-geometric) (3.0.4)\n",
      "Requirement already satisfied: jinja2 in /Users/francescoferrini/opt/anaconda3/lib/python3.9/site-packages (from torch-geometric) (2.11.3)\n",
      "Requirement already satisfied: psutil>=5.8.0 in /Users/francescoferrini/opt/anaconda3/lib/python3.9/site-packages (from torch-geometric) (5.8.0)\n",
      "Requirement already satisfied: requests in /Users/francescoferrini/opt/anaconda3/lib/python3.9/site-packages (from torch-geometric) (2.26.0)\n",
      "Requirement already satisfied: MarkupSafe>=0.23 in /Users/francescoferrini/opt/anaconda3/lib/python3.9/site-packages (from jinja2->torch-geometric) (1.1.1)\n",
      "Requirement already satisfied: charset-normalizer~=2.0.0 in /Users/francescoferrini/opt/anaconda3/lib/python3.9/site-packages (from requests->torch-geometric) (2.0.4)\n",
      "Requirement already satisfied: urllib3<1.27,>=1.21.1 in /Users/francescoferrini/opt/anaconda3/lib/python3.9/site-packages (from requests->torch-geometric) (1.26.7)\n",
      "Requirement already satisfied: certifi>=2017.4.17 in /Users/francescoferrini/opt/anaconda3/lib/python3.9/site-packages (from requests->torch-geometric) (2021.10.8)\n",
      "Requirement already satisfied: idna<4,>=2.5 in /Users/francescoferrini/opt/anaconda3/lib/python3.9/site-packages (from requests->torch-geometric) (3.2)\n",
      "Requirement already satisfied: joblib>=0.11 in /Users/francescoferrini/opt/anaconda3/lib/python3.9/site-packages (from scikit-learn->torch-geometric) (1.1.0)\n",
      "Requirement already satisfied: threadpoolctl>=2.0.0 in /Users/francescoferrini/opt/anaconda3/lib/python3.9/site-packages (from scikit-learn->torch-geometric) (2.2.0)\n"
     ]
    }
   ],
   "source": [
    "!pip3 install torch torchvision torchaudio\n",
    "!pip install pyg-lib torch-scatter torch-sparse torch-cluster torch-spline-conv torch-geometric -f https://data.pyg.org/whl/torch-1.13.0+cpu.html\n"
   ]
  },
  {
   "cell_type": "markdown",
   "id": "49807fdb",
   "metadata": {},
   "source": [
    "# Imports\n",
    "- main.py has all th functions\n",
    "- classes.py has the score function network"
   ]
  },
  {
   "cell_type": "code",
   "execution_count": 17,
   "id": "77e7f39c",
   "metadata": {},
   "outputs": [
    {
     "name": "stdout",
     "output_type": "stream",
     "text": [
      "Untitled.ipynb classes.py     main.py\r\n",
      "\u001b[34m__pycache__\u001b[m\u001b[m    \u001b[34mdata\u001b[m\u001b[m           test.py\r\n"
     ]
    }
   ],
   "source": [
    "!ls\n"
   ]
  },
  {
   "cell_type": "code",
   "execution_count": 18,
   "id": "26d2b122",
   "metadata": {},
   "outputs": [
    {
     "ename": "NameError",
     "evalue": "name 'main' is not defined",
     "output_type": "error",
     "traceback": [
      "\u001b[0;31m---------------------------------------------------------------------------\u001b[0m",
      "\u001b[0;31mNameError\u001b[0m                                 Traceback (most recent call last)",
      "\u001b[0;32m/var/folders/y6/1mx7yhq50db28dj64b27_kv40000gn/T/ipykernel_55862/976131916.py\u001b[0m in \u001b[0;36m<module>\u001b[0;34m\u001b[0m\n\u001b[1;32m     20\u001b[0m \u001b[0;34m\u001b[0m\u001b[0m\n\u001b[1;32m     21\u001b[0m \u001b[0;31m#dict, mod, emb_first, emb_second, max_dst_bag, loss, data = main(node_file, link_file, label_file, embedding_file, metapath_length)\u001b[0m\u001b[0;34m\u001b[0m\u001b[0;34m\u001b[0m\u001b[0m\n\u001b[0;32m---> 22\u001b[0;31m \u001b[0medg_dictionary\u001b[0m\u001b[0;34m,\u001b[0m \u001b[0mtrained_model\u001b[0m\u001b[0;34m,\u001b[0m \u001b[0mdest_dictionary\u001b[0m\u001b[0;34m,\u001b[0m \u001b[0mmax_destination_node_for_source\u001b[0m\u001b[0;34m,\u001b[0m \u001b[0mloss_per_node\u001b[0m\u001b[0;34m,\u001b[0m \u001b[0mpredictions\u001b[0m\u001b[0;34m,\u001b[0m \u001b[0mdata\u001b[0m \u001b[0;34m=\u001b[0m \u001b[0mmain\u001b[0m\u001b[0;34m(\u001b[0m\u001b[0mnode_file\u001b[0m\u001b[0;34m,\u001b[0m \u001b[0mlink_file\u001b[0m\u001b[0;34m,\u001b[0m \u001b[0mlabel_file\u001b[0m\u001b[0;34m,\u001b[0m \u001b[0membedding_file\u001b[0m\u001b[0;34m,\u001b[0m \u001b[0mmetapath_length\u001b[0m\u001b[0;34m)\u001b[0m\u001b[0;34m\u001b[0m\u001b[0;34m\u001b[0m\u001b[0m\n\u001b[0m",
      "\u001b[0;31mNameError\u001b[0m: name 'main' is not defined"
     ]
    }
   ],
   "source": [
    "EPOCHS = 200\n",
    "COMPLEX = True\n",
    "RESTARTS = 4\n",
    "\n",
    "\n",
    "metapath_length= 3\n",
    "tot_rel= 5\n",
    "aggregation= 'max'\n",
    "epochs_relations = 200\n",
    "epochs_train =200\n",
    "if COMPLEX == True:\n",
    "    dataset = \"complex\"\n",
    "else:\n",
    "    dataset = \"simple\"\n",
    "folder= \"/Users/francescoferrini/VScode//Multi-relationalGNN/data/\" + dataset + \"/length_m_\" + str(metapath_length) + \"__tot_rel_\" + str(tot_rel) + \"/\"\n",
    "node_file= folder + \"node.dat\"\n",
    "link_file= folder + \"link.dat\"\n",
    "label_file= folder + \"label.dat\"\n",
    "embedding_file = folder + \"embedding.dat\"\n",
    "\n",
    "#dict, mod, emb_first, emb_second, max_dst_bag, loss, data = main(node_file, link_file, label_file, embedding_file, metapath_length)\n",
    "edg_dictionary, trained_model, dest_dictionary, max_destination_node_for_source, loss_per_node, predictions, data = main(node_file, link_file, label_file, embedding_file, metapath_length)"
   ]
  },
  {
   "cell_type": "code",
   "execution_count": null,
   "id": "cbbfd574",
   "metadata": {},
   "outputs": [],
   "source": []
  }
 ],
 "metadata": {
  "kernelspec": {
   "display_name": "Python 3 (ipykernel)",
   "language": "python",
   "name": "python3"
  },
  "language_info": {
   "codemirror_mode": {
    "name": "ipython",
    "version": 3
   },
   "file_extension": ".py",
   "mimetype": "text/x-python",
   "name": "python",
   "nbconvert_exporter": "python",
   "pygments_lexer": "ipython3",
   "version": "3.9.7"
  }
 },
 "nbformat": 4,
 "nbformat_minor": 5
}
